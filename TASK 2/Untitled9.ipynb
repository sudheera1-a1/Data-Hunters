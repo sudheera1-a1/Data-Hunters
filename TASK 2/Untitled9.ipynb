{
 "cells": [
  {
   "cell_type": "code",
   "execution_count": null,
   "id": "221f315a-01e4-4997-bcdf-f31878d260c3",
   "metadata": {},
   "outputs": [
    {
     "name": "stdout",
     "output_type": "stream",
     "text": [
      "Dataset Loaded Successfully!\n",
      "                                              review\n",
      "0  Easily the best Sauvignon Blanc I've had to da...\n",
      "1                      Excellent, Mockingbird Inn?\\n\n",
      "2  Absolutely incredible. One of the best sauvign...\n",
      "3                   Reported in nytimes. Did not try\n",
      "4  Great. Much different than other Sauv Blancs s...\n"
     ]
    },
    {
     "name": "stderr",
     "output_type": "stream",
     "text": [
      "Device set to use cpu\n"
     ]
    },
    {
     "name": "stdout",
     "output_type": "stream",
     "text": [
      "Model Loaded: facebook/bart-large-mnli\n",
      "Classification Completed!\n",
      "Classified dataset saved to classified_wine_reviews.csv\n"
     ]
    }
   ],
   "source": [
    "# Install necessary libraries\n",
    "# !pip install transformers pandas matplotlib\n",
    "\n",
    "# Step 1: Load the CSV Dataset\n",
    "import pandas as pd\n",
    "\n",
    "try:\n",
    "    # Load the dataset\n",
    "    dataset = pd.read_csv(\"wine_reviews.csv\")\n",
    "    print(\"Dataset Loaded Successfully!\")\n",
    "    print(dataset.head())\n",
    "except FileNotFoundError:\n",
    "    print(\"Error: File 'wine_reviews.csv' not found. Ensure the file is in the correct directory.\")\n",
    "    exit()\n",
    "\n",
    "# Step 2: Import HuggingFace Pipeline and Load the Zero-Shot Classification Model\n",
    "from transformers import pipeline\n",
    "\n",
    "try:\n",
    "    # Define the zero-shot classification model\n",
    "    classifier = pipeline(\"zero-shot-classification\", model=\"facebook/bart-large-mnli\")\n",
    "    print(\"Model Loaded: facebook/bart-large-mnli\")\n",
    "except Exception as e:\n",
    "    print(\"Error loading the zero-shot classification model:\", e)\n",
    "    print(\"Ensure you have an active internet connection and the transformers library installed.\")\n",
    "    exit()\n",
    "\n",
    "# Step 3: Define Candidate Labels\n",
    "candidate_labels = [\n",
    "    \"talks about food combinations\",\n",
    "    \"talks about taste\",\n",
    "    \"talks about value for money\",\n",
    "    \"other\"\n",
    "]\n",
    "\n",
    "# Step 4: Classify Reviews and Add Predicted Labels\n",
    "def classify_review(review):\n",
    "    \"\"\"Classify the review text into one of the candidate labels.\"\"\"\n",
    "    try:\n",
    "        # Ensure the review text is valid\n",
    "        if pd.isna(review) or not isinstance(review, str):\n",
    "            return \"other\"\n",
    "        # Perform classification\n",
    "        result = classifier(review, candidate_labels)\n",
    "        return result['labels'][0]  # Return the label with the highest score\n",
    "    except Exception as e:\n",
    "        print(f\"Error classifying review: {review}\\n{e}\")\n",
    "        return \"other\"\n",
    "\n",
    "# Add the predictions as a new column\n",
    "try:\n",
    "    dataset['talks_about'] = dataset['review'].apply(classify_review)\n",
    "    print(\"Classification Completed!\")\n",
    "except Exception as e:\n",
    "    print(\"Error applying classification to the dataset:\", e)\n",
    "    exit()\n",
    "\n",
    "# Save the updated dataset (optional)\n",
    "output_file = \"classified_wine_reviews.csv\"\n",
    "try:\n",
    "    dataset.to_csv(output_file, index=False)\n",
    "    print(f\"Classified dataset saved to {output_file}\")\n",
    "except Exception as e:\n",
    "    print(f\"Error saving the dataset to file: {e}\")\n",
    "\n",
    "# Step 5: Visualize the Spread of Categories\n",
    "import matplotlib\n",
    "matplotlib.use('TkAgg')  # Use 'Agg' for static environments or 'TkAgg' for interactive plotting\n",
    "import matplotlib.pyplot as plt\n",
    "\n",
    "try:\n",
    "    # Count the occurrences of each category\n",
    "    category_counts = dataset['talks_about'].value_counts()\n",
    "\n",
    "    # Plot a bar chart\n",
    "    plt.figure(figsize=(10, 6))\n",
    "    category_counts.plot(kind='bar', color='skyblue', edgecolor='black')\n",
    "    plt.title(\"Spread of Review Categories\")\n",
    "    plt.xlabel(\"Categories\")\n",
    "    plt.ylabel(\"Number of Reviews\")\n",
    "    plt.xticks(rotation=45)\n",
    "    plt.tight_layout()\n",
    "\n",
    "    # Save or display the plot\n",
    "    plt.show()  # Show the chart interactively\n",
    "    # Alternatively, save the chart as an image file\n",
    "    # plt.savefig(\"category_distribution.png\")\n",
    "    # print(\"Chart saved as 'category_distribution.png'\")\n",
    "except Exception as e:\n",
    "    print(f\"Error visualizing the data: {e}\")\n"
   ]
  },
  {
   "cell_type": "code",
   "execution_count": null,
   "id": "34b3729d-6474-4574-abd1-c8e09ecaccea",
   "metadata": {},
   "outputs": [],
   "source": []
  }
 ],
 "metadata": {
  "kernelspec": {
   "display_name": "Python 3 (ipykernel)",
   "language": "python",
   "name": "python3"
  },
  "language_info": {
   "codemirror_mode": {
    "name": "ipython",
    "version": 3
   },
   "file_extension": ".py",
   "mimetype": "text/x-python",
   "name": "python",
   "nbconvert_exporter": "python",
   "pygments_lexer": "ipython3",
   "version": "3.12.7"
  }
 },
 "nbformat": 4,
 "nbformat_minor": 5
}
